{
 "cells": [
  {
   "cell_type": "markdown",
   "id": "d90e9216",
   "metadata": {},
   "source": [
    "# Scikit Learn categorization with bank transactions\n",
    "### Goal\n",
    "Being able to categorize each transactions by transaction name.\n",
    "### Methods\n",
    "Manual categorization to create dataset\n",
    "Find dataset that has business name and categories for training\n",
    "Tracker\n",
    "- Goal1. Use manual categorized dataset and create classifier that would return results."
   ]
  },
  {
   "cell_type": "code",
   "execution_count": 3,
   "id": "28fce19d",
   "metadata": {},
   "outputs": [],
   "source": [
    "import pandas as pd\n",
    "import matplotlib.pyplot as plt\n",
    "import numpy as np\n",
    "from sklearn.model_selection import train_test_split\n",
    "from sklearn.feature_extraction.text import CountVectorizer\n",
    "from sklearn.naive_bayes import MultinomialNB"
   ]
  },
  {
   "cell_type": "code",
   "execution_count": 50,
   "id": "c34953f4",
   "metadata": {},
   "outputs": [],
   "source": [
    "#Importing csv\n",
    "df_train_data = pd.read_csv('../datasets/2024-02-11_transaction_download.csv')\n",
    "df_test_data = pd.read_csv('../datasets/transactions_test.csv')"
   ]
  },
  {
   "cell_type": "code",
   "execution_count": 53,
   "id": "ae262b1e",
   "metadata": {},
   "outputs": [
    {
     "data": {
      "text/html": [
       "<div>\n",
       "<style scoped>\n",
       "    .dataframe tbody tr th:only-of-type {\n",
       "        vertical-align: middle;\n",
       "    }\n",
       "\n",
       "    .dataframe tbody tr th {\n",
       "        vertical-align: top;\n",
       "    }\n",
       "\n",
       "    .dataframe thead th {\n",
       "        text-align: right;\n",
       "    }\n",
       "</style>\n",
       "<table border=\"1\" class=\"dataframe\">\n",
       "  <thead>\n",
       "    <tr style=\"text-align: right;\">\n",
       "      <th></th>\n",
       "      <th>Transaction Date</th>\n",
       "      <th>Posted Date</th>\n",
       "      <th>Card No.</th>\n",
       "      <th>Description</th>\n",
       "      <th>Category</th>\n",
       "      <th>Debit</th>\n",
       "      <th>Credit</th>\n",
       "    </tr>\n",
       "  </thead>\n",
       "  <tbody>\n",
       "    <tr>\n",
       "      <th>0</th>\n",
       "      <td>2023-12-30</td>\n",
       "      <td>2023-12-30</td>\n",
       "      <td>7885</td>\n",
       "      <td>WORLDOFRACING</td>\n",
       "      <td>Entertainment</td>\n",
       "      <td>283.59</td>\n",
       "      <td>NaN</td>\n",
       "    </tr>\n",
       "    <tr>\n",
       "      <th>1</th>\n",
       "      <td>2023-12-28</td>\n",
       "      <td>2023-12-30</td>\n",
       "      <td>7885</td>\n",
       "      <td>TST* EM 7 GRAMS TUSTIN</td>\n",
       "      <td>Dining</td>\n",
       "      <td>57.53</td>\n",
       "      <td>NaN</td>\n",
       "    </tr>\n",
       "    <tr>\n",
       "      <th>2</th>\n",
       "      <td>2023-12-28</td>\n",
       "      <td>2023-12-29</td>\n",
       "      <td>7885</td>\n",
       "      <td>SQ *AIROMA CAFE</td>\n",
       "      <td>Dining</td>\n",
       "      <td>13.35</td>\n",
       "      <td>NaN</td>\n",
       "    </tr>\n",
       "    <tr>\n",
       "      <th>3</th>\n",
       "      <td>2023-12-23</td>\n",
       "      <td>2023-12-28</td>\n",
       "      <td>7885</td>\n",
       "      <td>Returned Mobile ACH Payme</td>\n",
       "      <td>Other</td>\n",
       "      <td>309.00</td>\n",
       "      <td>NaN</td>\n",
       "    </tr>\n",
       "    <tr>\n",
       "      <th>4</th>\n",
       "      <td>2023-12-28</td>\n",
       "      <td>2023-12-28</td>\n",
       "      <td>7885</td>\n",
       "      <td>LULULEMONCOM*</td>\n",
       "      <td>Merchandise</td>\n",
       "      <td>137.92</td>\n",
       "      <td>NaN</td>\n",
       "    </tr>\n",
       "  </tbody>\n",
       "</table>\n",
       "</div>"
      ],
      "text/plain": [
       "  Transaction Date Posted Date  Card No.                Description  \\\n",
       "0       2023-12-30  2023-12-30      7885              WORLDOFRACING   \n",
       "1       2023-12-28  2023-12-30      7885     TST* EM 7 GRAMS TUSTIN   \n",
       "2       2023-12-28  2023-12-29      7885            SQ *AIROMA CAFE   \n",
       "3       2023-12-23  2023-12-28      7885  Returned Mobile ACH Payme   \n",
       "4       2023-12-28  2023-12-28      7885              LULULEMONCOM*   \n",
       "\n",
       "        Category   Debit  Credit  \n",
       "0  Entertainment  283.59     NaN  \n",
       "1         Dining   57.53     NaN  \n",
       "2         Dining   13.35     NaN  \n",
       "3          Other  309.00     NaN  \n",
       "4    Merchandise  137.92     NaN  "
      ]
     },
     "execution_count": 53,
     "metadata": {},
     "output_type": "execute_result"
    }
   ],
   "source": [
    "df_train_data.head()"
   ]
  },
  {
   "cell_type": "code",
   "execution_count": 54,
   "id": "f8262975",
   "metadata": {},
   "outputs": [
    {
     "data": {
      "text/html": [
       "<div>\n",
       "<style scoped>\n",
       "    .dataframe tbody tr th:only-of-type {\n",
       "        vertical-align: middle;\n",
       "    }\n",
       "\n",
       "    .dataframe tbody tr th {\n",
       "        vertical-align: top;\n",
       "    }\n",
       "\n",
       "    .dataframe thead th {\n",
       "        text-align: right;\n",
       "    }\n",
       "</style>\n",
       "<table border=\"1\" class=\"dataframe\">\n",
       "  <thead>\n",
       "    <tr style=\"text-align: right;\">\n",
       "      <th></th>\n",
       "      <th>Transaction Date</th>\n",
       "      <th>Posted Date</th>\n",
       "      <th>Card No.</th>\n",
       "      <th>Description</th>\n",
       "      <th>Category</th>\n",
       "      <th>Debit</th>\n",
       "      <th>Credit</th>\n",
       "    </tr>\n",
       "  </thead>\n",
       "  <tbody>\n",
       "    <tr>\n",
       "      <th>0</th>\n",
       "      <td>2024-02-10</td>\n",
       "      <td>2024-02-10</td>\n",
       "      <td>7885</td>\n",
       "      <td>INTEREST CHARGE:PURCHASES</td>\n",
       "      <td>Fee/Interest Charge</td>\n",
       "      <td>12.20</td>\n",
       "      <td>NaN</td>\n",
       "    </tr>\n",
       "    <tr>\n",
       "      <th>1</th>\n",
       "      <td>2024-02-09</td>\n",
       "      <td>2024-02-10</td>\n",
       "      <td>7885</td>\n",
       "      <td>BEST BUY 00001297</td>\n",
       "      <td>Merchandise</td>\n",
       "      <td>53.87</td>\n",
       "      <td>NaN</td>\n",
       "    </tr>\n",
       "    <tr>\n",
       "      <th>2</th>\n",
       "      <td>2024-02-08</td>\n",
       "      <td>2024-02-10</td>\n",
       "      <td>7885</td>\n",
       "      <td>FTB CAFETERIA</td>\n",
       "      <td>Dining</td>\n",
       "      <td>6.75</td>\n",
       "      <td>NaN</td>\n",
       "    </tr>\n",
       "    <tr>\n",
       "      <th>3</th>\n",
       "      <td>2024-02-08</td>\n",
       "      <td>2024-02-09</td>\n",
       "      <td>7885</td>\n",
       "      <td>UBER *JiMiJustMeat</td>\n",
       "      <td>Dining</td>\n",
       "      <td>12.39</td>\n",
       "      <td>NaN</td>\n",
       "    </tr>\n",
       "    <tr>\n",
       "      <th>4</th>\n",
       "      <td>2024-02-04</td>\n",
       "      <td>2024-02-06</td>\n",
       "      <td>7885</td>\n",
       "      <td>SAFEWAY #2620</td>\n",
       "      <td>Merchandise</td>\n",
       "      <td>43.97</td>\n",
       "      <td>NaN</td>\n",
       "    </tr>\n",
       "  </tbody>\n",
       "</table>\n",
       "</div>"
      ],
      "text/plain": [
       "  Transaction Date Posted Date  Card No.                Description  \\\n",
       "0       2024-02-10  2024-02-10      7885  INTEREST CHARGE:PURCHASES   \n",
       "1       2024-02-09  2024-02-10      7885          BEST BUY 00001297   \n",
       "2       2024-02-08  2024-02-10      7885              FTB CAFETERIA   \n",
       "3       2024-02-08  2024-02-09      7885         UBER *JiMiJustMeat   \n",
       "4       2024-02-04  2024-02-06      7885              SAFEWAY #2620   \n",
       "\n",
       "              Category  Debit  Credit  \n",
       "0  Fee/Interest Charge  12.20     NaN  \n",
       "1          Merchandise  53.87     NaN  \n",
       "2               Dining   6.75     NaN  \n",
       "3               Dining  12.39     NaN  \n",
       "4          Merchandise  43.97     NaN  "
      ]
     },
     "execution_count": 54,
     "metadata": {},
     "output_type": "execute_result"
    }
   ],
   "source": [
    "df_test_data.head()"
   ]
  },
  {
   "cell_type": "code",
   "execution_count": 55,
   "id": "1d079506",
   "metadata": {},
   "outputs": [
    {
     "data": {
      "text/html": [
       "<div>\n",
       "<style scoped>\n",
       "    .dataframe tbody tr th:only-of-type {\n",
       "        vertical-align: middle;\n",
       "    }\n",
       "\n",
       "    .dataframe tbody tr th {\n",
       "        vertical-align: top;\n",
       "    }\n",
       "\n",
       "    .dataframe thead th {\n",
       "        text-align: right;\n",
       "    }\n",
       "</style>\n",
       "<table border=\"1\" class=\"dataframe\">\n",
       "  <thead>\n",
       "    <tr style=\"text-align: right;\">\n",
       "      <th></th>\n",
       "      <th>Description</th>\n",
       "      <th>Category</th>\n",
       "    </tr>\n",
       "  </thead>\n",
       "  <tbody>\n",
       "    <tr>\n",
       "      <th>count</th>\n",
       "      <td>546</td>\n",
       "      <td>546</td>\n",
       "    </tr>\n",
       "    <tr>\n",
       "      <th>unique</th>\n",
       "      <td>330</td>\n",
       "      <td>15</td>\n",
       "    </tr>\n",
       "    <tr>\n",
       "      <th>top</th>\n",
       "      <td>CAPITAL ONE MOBILE PYMT</td>\n",
       "      <td>Dining</td>\n",
       "    </tr>\n",
       "    <tr>\n",
       "      <th>freq</th>\n",
       "      <td>32</td>\n",
       "      <td>201</td>\n",
       "    </tr>\n",
       "  </tbody>\n",
       "</table>\n",
       "</div>"
      ],
      "text/plain": [
       "                    Description Category\n",
       "count                       546      546\n",
       "unique                      330       15\n",
       "top     CAPITAL ONE MOBILE PYMT   Dining\n",
       "freq                         32      201"
      ]
     },
     "execution_count": 55,
     "metadata": {},
     "output_type": "execute_result"
    }
   ],
   "source": [
    "#Simple cleaning...\n",
    "\n",
    "#df[['Category']] = df[['Category']].apply(lambda x: x.str.lower())\n",
    "\n",
    "#Drop values that are NaN/null\n",
    "#df=df.dropna()\n",
    "#df = df.drop(df[df['Category'] == 'zelle'].index)\n",
    "#df = df.drop(df[df['Category'] == 'withdrawl'].index)\n",
    "#Filter columns\n",
    "df_train_data=df_train_data[['Description', 'Category']]\n",
    "\n",
    "df_train_data.describe()"
   ]
  },
  {
   "cell_type": "code",
   "execution_count": 57,
   "id": "f080dc25",
   "metadata": {},
   "outputs": [
    {
     "data": {
      "text/plain": [
       "Text(0, 0.5, 'Occurence')"
      ]
     },
     "execution_count": 57,
     "metadata": {},
     "output_type": "execute_result"
    },
    {
     "data": {
      "image/png": "[encoded data removed]",
      "text/plain": [
       "<Figure size 1000x500 with 1 Axes>"
      ]
     },
     "metadata": {},
     "output_type": "display_data"
    }
   ],
   "source": [
    "df_train_data['Category'].value_counts().plot(kind='bar', figsize=(10, 5)).set_xlim(0,10)\n",
    "plt.xlabel('Categories')\n",
    "plt.ylabel('Occurence')"
   ]
  },
  {
   "cell_type": "code",
   "execution_count": 58,
   "id": "8c73a3a3",
   "metadata": {},
   "outputs": [
    {
     "data": {
      "text/plain": [
       "array([['WORLDOFRACING', 'Entertainment'],\n",
       "       ['TST* EM 7 GRAMS TUSTIN', 'Dining'],\n",
       "       ['SQ *AIROMA CAFE', 'Dining'],\n",
       "       ['Returned Mobile ACH Payme', 'Other'],\n",
       "       ['LULULEMONCOM*', 'Merchandise'],\n",
       "       ['UBER   *NanShanTieB', 'Dining'],\n",
       "       ['STARBUCKS 800-782-7282', 'Dining'],\n",
       "       ['CAPITAL ONE MOBILE PYMT', 'Payment/Credit'],\n",
       "       ['FTB CAFETERIA', 'Dining'],\n",
       "       ['AMAZON.CO.JP', 'Merchandise']], dtype=object)"
      ]
     },
     "execution_count": 58,
     "metadata": {},
     "output_type": "execute_result"
    }
   ],
   "source": [
    "data_np = df_train_data.to_numpy()\n",
    "data_np[:10]"
   ]
  },
  {
   "cell_type": "code",
   "execution_count": 35,
   "id": "c66480e1",
   "metadata": {},
   "outputs": [
    {
     "data": {
      "text/plain": [
       "array([['TST* Grid Bar & Grill', 'dining'],\n",
       "       ['KFC/AW #161', 'dining'],\n",
       "       ['HAMMER/I-5 INVESTMENTS', 'gas/automotive'],\n",
       "       ['TOP CHOICE RESTAURANT', 'dining'],\n",
       "       [\"TST* HARLOW'S\", 'dining'],\n",
       "       ['SQ *OLD COYOTE', 'dining'],\n",
       "       ['HAMMER/I-5 INVESTMENTS', 'gas/automotive'],\n",
       "       ['SQ *18 GRAMS COFFEE RO', 'dining'],\n",
       "       ['UBER* TRIP', 'other travel'],\n",
       "       ['CAPITAL ONE MOBILE PYMT', 'payment/credit']], dtype=object)"
      ]
     },
     "execution_count": 35,
     "metadata": {},
     "output_type": "execute_result"
    }
   ],
   "source": [
    "Xtrain, Xtest = train_test_split(data_np, random_state=42)\n",
    "Xtrain[:10]"
   ]
  },
  {
   "cell_type": "code",
   "execution_count": 36,
   "id": "26d60b13",
   "metadata": {},
   "outputs": [],
   "source": [
    "cv = CountVectorizer(token_pattern=r'[^\\s,][^,]+')"
   ]
  },
  {
   "cell_type": "code",
   "execution_count": 38,
   "id": "7d5b49cf",
   "metadata": {},
   "outputs": [],
   "source": [
    "X_train_counts = cv.fit_transform(Xtrain[:, 0])"
   ]
  },
  {
   "cell_type": "code",
   "execution_count": 40,
   "id": "647031a8",
   "metadata": {},
   "outputs": [
    {
     "data": {
      "text/plain": [
       "(409, 257)"
      ]
     },
     "execution_count": 40,
     "metadata": {},
     "output_type": "execute_result"
    }
   ],
   "source": [
    "X_train_counts.shape"
   ]
  },
  {
   "cell_type": "code",
   "execution_count": 43,
   "id": "4bb8536d",
   "metadata": {},
   "outputs": [],
   "source": [
    "categories = Xtrain[:, 1]\n",
    "target = pd.factorize(categories)"
   ]
  },
  {
   "cell_type": "code",
   "execution_count": 44,
   "id": "39d4924f",
   "metadata": {},
   "outputs": [],
   "source": [
    "clf = MultinomialNB().fit(X_train_counts, target[0])"
   ]
  },
  {
   "cell_type": "code",
   "execution_count": 45,
   "id": "d89a29dc",
   "metadata": {},
   "outputs": [],
   "source": [
    "def predict(data):\n",
    "    #docs_new has to be one dimentional list\n",
    "    docs_new = data\n",
    "    X_new_counts = cv.transform(docs_new)\n",
    "    predicted = clf.predict(X_new_counts)\n",
    "    result = []\n",
    "    for i in predicted:\n",
    "        result.append(target[1][i])\n",
    "    return result"
   ]
  },
  {
   "cell_type": "code",
   "execution_count": 48,
   "id": "6dc4b47f",
   "metadata": {},
   "outputs": [],
   "source": [
    "df = pd.DataFrame(zip(predict(Xtest[:, 0]), Xtest[:, 0]), columns=['predicted_category', 'given_data'])"
   ]
  },
  {
   "cell_type": "code",
   "execution_count": 60,
   "id": "afc44ca4",
   "metadata": {},
   "outputs": [
    {
     "data": {
      "text/html": [
       "<div>\n",
       "<style scoped>\n",
       "    .dataframe tbody tr th:only-of-type {\n",
       "        vertical-align: middle;\n",
       "    }\n",
       "\n",
       "    .dataframe tbody tr th {\n",
       "        vertical-align: top;\n",
       "    }\n",
       "\n",
       "    .dataframe thead th {\n",
       "        text-align: right;\n",
       "    }\n",
       "</style>\n",
       "<table border=\"1\" class=\"dataframe\">\n",
       "  <thead>\n",
       "    <tr style=\"text-align: right;\">\n",
       "      <th></th>\n",
       "      <th>predicted_category</th>\n",
       "      <th>given_data</th>\n",
       "    </tr>\n",
       "  </thead>\n",
       "  <tbody>\n",
       "    <tr>\n",
       "      <th>0</th>\n",
       "      <td>dining</td>\n",
       "      <td>CHIPOTLE 2158</td>\n",
       "    </tr>\n",
       "    <tr>\n",
       "      <th>1</th>\n",
       "      <td>dining</td>\n",
       "      <td>Amazon Prime*0N3833CF3</td>\n",
       "    </tr>\n",
       "    <tr>\n",
       "      <th>2</th>\n",
       "      <td>merchandise</td>\n",
       "      <td>KP INTERNATIONAL MARKE</td>\n",
       "    </tr>\n",
       "    <tr>\n",
       "      <th>3</th>\n",
       "      <td>dining</td>\n",
       "      <td>FALLON HOUSE ICE CREAM</td>\n",
       "    </tr>\n",
       "    <tr>\n",
       "      <th>4</th>\n",
       "      <td>payment/credit</td>\n",
       "      <td>CAPITAL ONE MOBILE PYMT</td>\n",
       "    </tr>\n",
       "  </tbody>\n",
       "</table>\n",
       "</div>"
      ],
      "text/plain": [
       "  predicted_category               given_data\n",
       "0             dining            CHIPOTLE 2158\n",
       "1             dining   Amazon Prime*0N3833CF3\n",
       "2        merchandise   KP INTERNATIONAL MARKE\n",
       "3             dining   FALLON HOUSE ICE CREAM\n",
       "4     payment/credit  CAPITAL ONE MOBILE PYMT"
      ]
     },
     "execution_count": 60,
     "metadata": {},
     "output_type": "execute_result"
    }
   ],
   "source": [
    "df.head()"
   ]
  }
 ],
 "metadata": {
  "kernelspec": {
   "display_name": "Python 3 (ipykernel)",
   "language": "python",
   "name": "python3"
  },
  "language_info": {
   "codemirror_mode": {
    "name": "ipython",
    "version": 3
   },
   "file_extension": ".py",
   "mimetype": "text/x-python",
   "name": "python",
   "nbconvert_exporter": "python",
   "pygments_lexer": "ipython3",
   "version": "3.11.5"
  }
 },
 "nbformat": 4,
 "nbformat_minor": 5
}
